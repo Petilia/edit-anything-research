{
 "cells": [
  {
   "cell_type": "code",
   "execution_count": 2,
   "id": "523a052b",
   "metadata": {},
   "outputs": [
    {
     "name": "stdout",
     "output_type": "stream",
     "text": [
      "hi!\n"
     ]
    }
   ],
   "source": [
    "print('hi!')"
   ]
  },
  {
   "cell_type": "markdown",
   "id": "f69dabb7",
   "metadata": {},
   "source": [
    "# POST"
   ]
  },
  {
   "cell_type": "code",
   "execution_count": 23,
   "id": "4a905679",
   "metadata": {},
   "outputs": [],
   "source": [
    "import requests\n",
    "\n",
    "payload = {}\n",
    "\n",
    "files = {('file', open('img_1.jpeg', 'rb'))}\n",
    "response = requests.post(url='http://127.0.0.1:8000/upload', files=files, params=payload)"
   ]
  },
  {
   "cell_type": "code",
   "execution_count": 24,
   "id": "9a239e76",
   "metadata": {},
   "outputs": [
    {
     "data": {
      "text/plain": [
       "<Response [200]>"
      ]
     },
     "execution_count": 24,
     "metadata": {},
     "output_type": "execute_result"
    }
   ],
   "source": [
    "response"
   ]
  },
  {
   "cell_type": "code",
   "execution_count": null,
   "id": "8d969c95",
   "metadata": {},
   "outputs": [],
   "source": []
  },
  {
   "cell_type": "markdown",
   "id": "60d65a78",
   "metadata": {},
   "source": [
    "# GET"
   ]
  },
  {
   "cell_type": "code",
   "execution_count": 25,
   "id": "7f3ca67a",
   "metadata": {},
   "outputs": [
    {
     "name": "stdout",
     "output_type": "stream",
     "text": [
      "{'_content': False, '_content_consumed': False, '_next': None, 'status_code': 200, 'headers': {'date': 'Fri, 13 Oct 2023 13:12:13 GMT', 'server': 'uvicorn', 'content-type': 'image/jpeg', 'content-length': '8950', 'last-modified': 'Fri, 13 Oct 2023 13:12:13 GMT', 'etag': '7c10b96f37d8866d972e8724411ac213'}, 'raw': <urllib3.response.HTTPResponse object at 0x7f61d4381dc0>, 'url': 'http://127.0.0.1:8000/get_image/', 'encoding': None, 'history': [], 'reason': 'OK', 'cookies': <RequestsCookieJar[]>, 'elapsed': datetime.timedelta(microseconds=186651), 'request': <PreparedRequest [GET]>, 'connection': <requests.adapters.HTTPAdapter object at 0x7f61cccf2730>}\n",
      "<urllib3.response.HTTPResponse object at 0x7f61d4381dc0>\n"
     ]
    }
   ],
   "source": [
    "url = \"http://127.0.0.1:8000/get_image/\"\n",
    "response = requests.get(url, stream=True)\n",
    "print(response.__dict__)\n",
    "print(response.raw)\n",
    "\n"
   ]
  },
  {
   "cell_type": "code",
   "execution_count": 26,
   "id": "10d2cbe3",
   "metadata": {},
   "outputs": [
    {
     "data": {
      "text/plain": [
       "{'headers': HTTPHeaderDict({'date': 'Fri, 13 Oct 2023 13:12:13 GMT', 'server': 'uvicorn', 'content-type': 'image/jpeg', 'content-length': '8950', 'last-modified': 'Fri, 13 Oct 2023 13:12:13 GMT', 'etag': '7c10b96f37d8866d972e8724411ac213'}),\n",
       " 'status': 200,\n",
       " 'version': 11,\n",
       " 'reason': 'OK',\n",
       " 'strict': 0,\n",
       " 'decode_content': False,\n",
       " 'retries': Retry(total=0, connect=None, read=False, redirect=None, status=None),\n",
       " 'enforce_content_length': False,\n",
       " 'auto_close': True,\n",
       " '_decoder': None,\n",
       " '_body': None,\n",
       " '_fp': <http.client.HTTPResponse at 0x7f61ccdf1a30>,\n",
       " '_original_response': <http.client.HTTPResponse at 0x7f61ccdf1a30>,\n",
       " '_fp_bytes_read': 0,\n",
       " 'msg': None,\n",
       " '_request_url': None,\n",
       " '_pool': <urllib3.connectionpool.HTTPConnectionPool at 0x7f61cccc0df0>,\n",
       " '_connection': <urllib3.connection.HTTPConnection at 0x7f61ccc7d460>,\n",
       " 'chunked': False,\n",
       " 'chunk_left': None,\n",
       " 'length_remaining': 8950}"
      ]
     },
     "execution_count": 26,
     "metadata": {},
     "output_type": "execute_result"
    }
   ],
   "source": [
    "response.raw.__dict__"
   ]
  },
  {
   "cell_type": "code",
   "execution_count": 27,
   "id": "3b54cda3",
   "metadata": {},
   "outputs": [],
   "source": [
    "if response.status_code == 200:\n",
    "    with open('./res.jpeg', 'wb') as f:\n",
    "        for chunk in response:\n",
    "            f.write(chunk)"
   ]
  },
  {
   "cell_type": "code",
   "execution_count": 28,
   "id": "8b511958",
   "metadata": {},
   "outputs": [],
   "source": [
    "import uuid"
   ]
  },
  {
   "cell_type": "code",
   "execution_count": 36,
   "id": "f2444875",
   "metadata": {},
   "outputs": [
    {
     "data": {
      "text/plain": [
       "UUID('55e604b7-db32-48e3-a7f4-10781e2e950b')"
      ]
     },
     "execution_count": 36,
     "metadata": {},
     "output_type": "execute_result"
    }
   ],
   "source": [
    "uuid.uuid4()\n"
   ]
  },
  {
   "cell_type": "code",
   "execution_count": null,
   "id": "92420ca2",
   "metadata": {},
   "outputs": [],
   "source": []
  },
  {
   "cell_type": "code",
   "execution_count": null,
   "id": "bc1700ec",
   "metadata": {},
   "outputs": [],
   "source": []
  },
  {
   "cell_type": "code",
   "execution_count": null,
   "id": "740dfc1a",
   "metadata": {},
   "outputs": [],
   "source": []
  }
 ],
 "metadata": {
  "kernelspec": {
   "display_name": "Python 3",
   "language": "python",
   "name": "python3"
  },
  "language_info": {
   "codemirror_mode": {
    "name": "ipython",
    "version": 3
   },
   "file_extension": ".py",
   "mimetype": "text/x-python",
   "name": "python",
   "nbconvert_exporter": "python",
   "pygments_lexer": "ipython3",
   "version": "3.8.10"
  }
 },
 "nbformat": 4,
 "nbformat_minor": 5
}
